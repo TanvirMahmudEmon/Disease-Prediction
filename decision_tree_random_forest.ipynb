{
 "cells": [
  {
   "cell_type": "code",
   "execution_count": 22,
   "metadata": {
    "collapsed": false
   },
   "outputs": [
    {
     "name": "stdout",
     "output_type": "stream",
     "text": [
      "Prediction Result:  [ 1 37 37 37 37  1 37 37 37 37 37 37 37 37 37 37  1  1 37 37 37 37 37 37 37\n",
      "  1 37 37 37 37 37 37 37 37 37  1 37 37 37 37 37 37  1 37 37 37 37 37 37 37\n",
      " 37 37 37 37  1 37 37 37 37 37 37 37 37  1 37 37 37 37 37 37 37 37 37 37 37\n",
      " 37 37 37 37 37 37]\n",
      "Accuracy:  0.469135802469\n"
     ]
    }
   ],
   "source": [
    "# Disease prediction\n",
    "# Classification- Decision Tree\n",
    "# Using Age and Gender\n",
    "\n",
    "import pandas as pd\n",
    "import numpy as np\n",
    "\n",
    "from sklearn.tree import DecisionTreeClassifier\n",
    "\n",
    "from sklearn.metrics import accuracy_score\n",
    "#import warnings; warnings.simplefilter('ignore') # Jupyter notebook warning message remove\n",
    "\n",
    "#importing the dataset\n",
    "df = pd.read_csv('disease_data.csv')\n",
    "#print(df.head())\n",
    "\n",
    "df=df.fillna('0')\n",
    "\n",
    "cols = [8,9,10,11,12,13,14,15,16]\n",
    "df.drop(df.columns[cols],axis=1,inplace=True)\n",
    "#print(df)\n",
    "\n",
    "#result of independent variable\n",
    "X = df.iloc[:,7:9].values\n",
    "#print(X)\n",
    "\n",
    "#result of dependent variable\n",
    "y = df.iloc[:,-1].values\n",
    "\n",
    "#taking careof categorical data\n",
    "from sklearn.preprocessing import LabelEncoder\n",
    "labelencoder_y = LabelEncoder()\n",
    "labelencoder_X = LabelEncoder()\n",
    "X[:,1]= labelencoder_X.fit_transform(X[:,1])\n",
    "#print(X)\n",
    "y= labelencoder_y.fit_transform(y)\n",
    "#print(len(y))\n",
    "\n",
    "from sklearn.cross_validation import train_test_split\n",
    "X_train, X_test, y_train, y_test = train_test_split(X,y, test_size = 0.33, random_state = 4)\n",
    "\n",
    "clf_gini = DecisionTreeClassifier(criterion = \"gini\", random_state = 100, max_depth=3, min_samples_leaf=5)\n",
    "clf_gini.fit(X_train, y_train)\n",
    "predicted = clf_gini.predict(X_test)\n",
    "\n",
    "print(\"Prediction Result: \",predicted)\n",
    "\n",
    "print(\"Accuracy: \",accuracy_score(y_test, predicted, normalize = True)) #accuracy_score(train output, predict output)"
   ]
  },
  {
   "cell_type": "code",
   "execution_count": 30,
   "metadata": {
    "collapsed": false
   },
   "outputs": [
    {
     "name": "stdout",
     "output_type": "stream",
     "text": [
      "Prediction Result:  [ 1 37 37 37 37  1 37 37 37 37 37 37 37 37 37 37  1  1 37 37 37 37 37 37  1\n",
      "  1 37  1 37 37 37 37 37 37 37  1 37 37 37 37 37 37 37 37 37 37 37 37 37 37\n",
      " 37 37 37 37  1 37 37  1 37 37 37 37 37 37 37 37 37 37 37 37 37 37 37 37 37\n",
      " 37 37 37 37 37 37]\n",
      "Accuracy:  0.481481481481\n"
     ]
    }
   ],
   "source": [
    "# Disease prediction\n",
    "# Classification- Random Forest\n",
    "# Using Age and Gender\n",
    "\n",
    "import pandas as pd\n",
    "import numpy as np\n",
    "\n",
    "from sklearn.ensemble import RandomForestClassifier\n",
    "\n",
    "from sklearn.metrics import accuracy_score\n",
    "\n",
    "#import warnings; warnings.simplefilter('ignore') # Jupyter notebook warning message remove\n",
    "\n",
    "#importing the dataset\n",
    "df = pd.read_csv('disease_data.csv')\n",
    "#print(df.head())\n",
    "\n",
    "df=df.fillna('0')\n",
    "\n",
    "cols = [8,9,10,11,12,13,14,15,16]\n",
    "df.drop(df.columns[cols],axis=1,inplace=True)\n",
    "#print(df)\n",
    "\n",
    "#result of independent variable\n",
    "X = df.iloc[:,7:9].values\n",
    "#print(X)\n",
    "\n",
    "#result of dependent variable\n",
    "y = df.iloc[:,-1].values\n",
    "\n",
    "#taking careof categorical data\n",
    "from sklearn.preprocessing import LabelEncoder\n",
    "labelencoder_y = LabelEncoder()\n",
    "labelencoder_X = LabelEncoder()\n",
    "X[:,1]= labelencoder_X.fit_transform(X[:,1])\n",
    "#print(X)\n",
    "y= labelencoder_y.fit_transform(y)\n",
    "\n",
    "from sklearn.cross_validation import train_test_split\n",
    "X_train, X_test, y_train, y_test = train_test_split(X,y, test_size = 0.33, random_state = 4)\n",
    "\n",
    "clf = RandomForestClassifier(max_depth=3, random_state=0)\n",
    "clf.fit(X_train, y_train)\n",
    "\n",
    "predicted = clf.predict(X_test)\n",
    "\n",
    "print(\"Prediction Result: \",predicted)\n",
    "\n",
    "print(\"Accuracy: \",accuracy_score(y_test, predicted, normalize = True)) #accuracy_score(train output, predict output)"
   ]
  },
  {
   "cell_type": "code",
   "execution_count": null,
   "metadata": {
    "collapsed": true
   },
   "outputs": [],
   "source": []
  }
 ],
 "metadata": {
  "anaconda-cloud": {},
  "kernelspec": {
   "display_name": "Python [default]",
   "language": "python",
   "name": "python3"
  },
  "language_info": {
   "codemirror_mode": {
    "name": "ipython",
    "version": 3
   },
   "file_extension": ".py",
   "mimetype": "text/x-python",
   "name": "python",
   "nbconvert_exporter": "python",
   "pygments_lexer": "ipython3",
   "version": "3.5.2"
  }
 },
 "nbformat": 4,
 "nbformat_minor": 1
}
