{
 "cells": [
  {
   "cell_type": "code",
   "execution_count": 2,
   "metadata": {
    "collapsed": false
   },
   "outputs": [
    {
     "name": "stdout",
     "output_type": "stream",
     "text": [
      "245\n",
      "245\n"
     ]
    },
    {
     "ename": "NameError",
     "evalue": "name 'dataset' is not defined",
     "output_type": "error",
     "traceback": [
      "\u001b[0;31m---------------------------------------------------------------------------\u001b[0m",
      "\u001b[0;31mNameError\u001b[0m                                 Traceback (most recent call last)",
      "\u001b[0;32m<ipython-input-2-51cecf10d200>\u001b[0m in \u001b[0;36m<module>\u001b[0;34m()\u001b[0m\n\u001b[1;32m     37\u001b[0m \u001b[1;31m#X = np.array(X)\u001b[0m\u001b[1;33m\u001b[0m\u001b[1;33m\u001b[0m\u001b[0m\n\u001b[1;32m     38\u001b[0m \u001b[1;31m#y = np.array(y)\u001b[0m\u001b[1;33m\u001b[0m\u001b[1;33m\u001b[0m\u001b[0m\n\u001b[0;32m---> 39\u001b[0;31m \u001b[0mprint\u001b[0m \u001b[1;33m(\u001b[0m\u001b[1;34m\"Shape of the data:\"\u001b[0m\u001b[1;33m,\u001b[0m\u001b[0mdataset\u001b[0m\u001b[1;33m.\u001b[0m\u001b[0mshape\u001b[0m\u001b[1;33m,\u001b[0m\u001b[1;34m\"\\n\"\u001b[0m\u001b[1;33m)\u001b[0m\u001b[1;33m\u001b[0m\u001b[0m\n\u001b[0m\u001b[1;32m     40\u001b[0m \u001b[1;33m\u001b[0m\u001b[0m\n\u001b[1;32m     41\u001b[0m \u001b[1;32mfrom\u001b[0m \u001b[0msklearn\u001b[0m\u001b[1;33m.\u001b[0m\u001b[0mcross_validation\u001b[0m \u001b[1;32mimport\u001b[0m \u001b[0mtrain_test_split\u001b[0m\u001b[1;33m\u001b[0m\u001b[0m\n",
      "\u001b[0;31mNameError\u001b[0m: name 'dataset' is not defined"
     ]
    }
   ],
   "source": [
    "# Disease prediction\n",
    "\n",
    "import pandas as pd\n",
    "import numpy as np\n",
    "from sklearn.tree import DecisionTreeRegressor\n",
    "import warnings; warnings.simplefilter('ignore') # Jupyter notebook warning message remove\n",
    "\n",
    "#importing the dataset\n",
    "df = pd.read_csv('disease_data.csv')\n",
    "\n",
    "#df.drop(df[,0:7])\n",
    "\n",
    "#df['Diagnosis']=df['Diagnosis'].fillna(0)\n",
    "\n",
    "#df=np.reshape((196,1))\n",
    "#df=np.reshape(df, (196, 1))\n",
    "\n",
    "#result of independent variable\n",
    "X = df.iloc[:,7].values \n",
    "print(len(X))\n",
    "\n",
    "#result of dependent variable\n",
    "y = df.iloc[:,-1].values\n",
    "print(len(y))\n",
    "\n",
    "#taking careof categorical data\n",
    "from sklearn.preprocessing import LabelEncoder\n",
    "labelencoder_y = LabelEncoder()\n",
    "#y[:,-1]= labelencoder_y.fit_transform(y[:,-1])\n",
    "y= labelencoder_y.fit_transform(y)\n",
    "#print(len(y))\n",
    "\n",
    "#X=np.reshape(X, (196,1))\n",
    "#y=np.reshape(y, (196,1))\n",
    "#X = np.array(X,np.float32).reshape(1, len(X))\n",
    "\n",
    "#X = np.array(X)\n",
    "#y = np.array(y)\n",
    "print (\"Shape of the data:\",dataset.shape,\"\\n\")\n",
    "\n",
    "from sklearn.cross_validation import train_test_split\n",
    "\n",
    "#for i in range(1,10):\n",
    "X_train, X_test, y_train, y_test = train_test_split(X,y,test_size = 0.20,random_state = 1)\n",
    "\n",
    "regressor = DecisionTreeRegressor(max_depth=6)\n",
    "regressor.fit(X_train,y_train)\n",
    "predicted = regressor.predict(X_test)#print(\"Prediction Result: \",predicted)\n",
    "print(\"i = \",i)\n",
    "print('R-squared test score: {:.3f}'.format(regressor.score(X_test,y_test))) # R-Squared test score\n",
    "\n",
    "\n",
    "import seaborn as sns\n",
    "import matplotlib.pyplot as plt\n",
    "sns.set(style=\"darkgrid\")\n",
    "sns.tsplot(y_test[0:50])\n",
    "sns.tsplot(predicted[0:50],color=\"indianred\")\n",
    "plt.xlabel('Number of Observation')\n",
    "plt.ylabel('n')\n",
    "plt.title('f')\n",
    "plt.show()"
   ]
  },
  {
   "cell_type": "code",
   "execution_count": null,
   "metadata": {
    "collapsed": false
   },
   "outputs": [],
   "source": []
  }
 ],
 "metadata": {
  "anaconda-cloud": {},
  "kernelspec": {
   "display_name": "Python [default]",
   "language": "python",
   "name": "python3"
  },
  "language_info": {
   "codemirror_mode": {
    "name": "ipython",
    "version": 3
   },
   "file_extension": ".py",
   "mimetype": "text/x-python",
   "name": "python",
   "nbconvert_exporter": "python",
   "pygments_lexer": "ipython3",
   "version": "3.5.2"
  }
 },
 "nbformat": 4,
 "nbformat_minor": 1
}
