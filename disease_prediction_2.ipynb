{
 "cells": [
  {
   "cell_type": "code",
   "execution_count": 2,
   "metadata": {
    "collapsed": false
   },
   "outputs": [
    {
     "name": "stdout",
     "output_type": "stream",
     "text": [
      "Prediction Result:  [ 0 37 37 37 37  0 37 37  1 37 37 37 37 37 37 37  1 37 37 37 37 37 37 37  1\n",
      "  1 37 37 37 37 37 37 37 37 37 37 37 37 37 37 37 37  1 37 37 37 37 37 37 37\n",
      " 37 37 37 37  1 37 37  1 37 37 37 37 37  1 37 37 37 37 37 37 37 37 37 37 37\n",
      " 37  1 37 37 37 37]\n",
      "Prediction Accuracy:  0.493827160494\n"
     ]
    }
   ],
   "source": [
    "# Disease prediction\n",
    "# Classification\n",
    "\n",
    "import pandas as pd\n",
    "import numpy as np\n",
    "from sklearn.naive_bayes import GaussianNB\n",
    "from sklearn.metrics import accuracy_score\n",
    "#import warnings; warnings.simplefilter('ignore') # Jupyter notebook warning message remove\n",
    "\n",
    "#importing the dataset\n",
    "df = pd.read_csv('disease_data.csv')\n",
    "\n",
    "cols = [2,3,4,5,6]\n",
    "df.drop(df.columns[cols],axis=1,inplace=True)\n",
    "# print(df)\n",
    "\n",
    "#df['Diagnosis']=df['Diagnosis'].fillna(0)\n",
    "\n",
    "#df=np.reshape((196,1))\n",
    "#df=np.reshape(df, (196, 1))\n",
    "\n",
    "#result of independent variable\n",
    "# X[:,0] = df.iloc[:,1].values \n",
    "# X[:,1] = df.iloc[:,7].values \n",
    "# X=df.iloc[[0:-1], [0,7]].values\n",
    "#print(X)\n",
    "X = df.iloc[:,1:3].values\n",
    "\n",
    "#result of dependent variable\n",
    "y = df.iloc[:,-1].values\n",
    "\n",
    "#taking careof categorical data\n",
    "from sklearn.preprocessing import LabelEncoder\n",
    "labelencoder_y = LabelEncoder()\n",
    "labelencoder_X = LabelEncoder()\n",
    "X[:,0]= labelencoder_X.fit_transform(X[:,0])\n",
    "#print(X)\n",
    "y= labelencoder_y.fit_transform(y)\n",
    "#print(len(y))\n",
    "\n",
    "#X=np.reshape(X, (196,1))\n",
    "#y=np.reshape(y, (196,1))\n",
    "#X = np.array(X,np.float32).reshape(1, len(X))\n",
    "\n",
    "#X = np.array(X)\n",
    "#y = np.array(y)\n",
    "#print (\"Shape of the data:\",dataset.shape,\"\\n\")\n",
    "\n",
    "#for i in range(1,10):\n",
    "from sklearn.cross_validation import train_test_split\n",
    "X_train, X_test, y_train, y_test = train_test_split(X,y, test_size = 0.33, random_state = 4)\n",
    "\n",
    "model = GaussianNB()\n",
    "model.fit(X_train,y_train)\n",
    "predicted = model.predict(X_test)\n",
    "print(\"Prediction Result: \",predicted)\n",
    "\n",
    "print(\"Prediction Accuracy: \",accuracy_score(y_test, predicted, normalize = True)) #accuracy_score(train output, predict output)"
   ]
  },
  {
   "cell_type": "code",
   "execution_count": null,
   "metadata": {
    "collapsed": false
   },
   "outputs": [],
   "source": []
  }
 ],
 "metadata": {
  "anaconda-cloud": {},
  "kernelspec": {
   "display_name": "Python [default]",
   "language": "python",
   "name": "python3"
  },
  "language_info": {
   "codemirror_mode": {
    "name": "ipython",
    "version": 3
   },
   "file_extension": ".py",
   "mimetype": "text/x-python",
   "name": "python",
   "nbconvert_exporter": "python",
   "pygments_lexer": "ipython3",
   "version": "3.5.2"
  }
 },
 "nbformat": 4,
 "nbformat_minor": 1
}
